{
 "cells": [
  {
   "cell_type": "code",
   "execution_count": 1,
   "metadata": {},
   "outputs": [],
   "source": [
    "import sys\n",
    "working_directory_path = 'C:\\\\Users\\\\lihao\\\\Data-Enabled-Predictive-Control'\n",
    "if working_directory_path not in sys.path:\n",
    "    sys.path.append(working_directory_path)"
   ]
  },
  {
   "cell_type": "code",
   "execution_count": 2,
   "metadata": {},
   "outputs": [],
   "source": [
    "import casadi as ca\n",
    "import numpy as np\n",
    "from controller.abstract import Controller\n",
    "from system.collections.pendulum import Pendulum"
   ]
  },
  {
   "cell_type": "code",
   "execution_count": 3,
   "metadata": {},
   "outputs": [
    {
     "name": "stdout",
     "output_type": "stream",
     "text": [
      "<class 'method'>\n",
      "<class 'function'>\n"
     ]
    },
    {
     "data": {
      "text/plain": [
       "<function system.continuous.ContinuousSystem.discretize.<locals>.dynamics_discrete(x, u)>"
      ]
     },
     "execution_count": 3,
     "metadata": {},
     "output_type": "execute_result"
    }
   ],
   "source": [
    "pendulum = Pendulum(1, 1, 0)\n",
    "x = np.array([1, 0])\n",
    "u = np.array([0])\n",
    "pendulum_discrete = pendulum.discretize(0.1, 'euler')\n",
    "print(type(pendulum.dynamics))\n",
    "print(type(pendulum_discrete.dynamics))\n",
    "pendulum_discrete.dynamics"
   ]
  }
 ],
 "metadata": {
  "kernelspec": {
   "display_name": "science",
   "language": "python",
   "name": "python3"
  },
  "language_info": {
   "codemirror_mode": {
    "name": "ipython",
    "version": 3
   },
   "file_extension": ".py",
   "mimetype": "text/x-python",
   "name": "python",
   "nbconvert_exporter": "python",
   "pygments_lexer": "ipython3",
   "version": "3.12.8"
  }
 },
 "nbformat": 4,
 "nbformat_minor": 2
}
